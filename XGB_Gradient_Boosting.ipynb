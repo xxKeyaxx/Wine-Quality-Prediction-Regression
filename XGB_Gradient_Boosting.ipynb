{
  "nbformat": 4,
  "nbformat_minor": 0,
  "metadata": {
    "colab": {
      "provenance": []
    },
    "kernelspec": {
      "name": "python3",
      "display_name": "Python 3"
    },
    "language_info": {
      "name": "python"
    }
  },
  "cells": [
    {
      "cell_type": "code",
      "source": [
        "from google.colab import drive\n",
        "import pandas as pd\n",
        "import sklearn\n",
        "import io\n",
        "drive.mount('/content/drive', force_remount = True)\n",
        "path = \"/content/drive/MyDrive/winequalityN.csv\"\n",
        "df = pd.read_csv(path)\n",
        "df = df.dropna()\n",
        "print(df)"
      ],
      "metadata": {
        "colab": {
          "base_uri": "https://localhost:8080/"
        },
        "id": "sHwqRjeVPb0C",
        "outputId": "c01e506c-b38b-4b58-dd62-3ffc5309f543"
      },
      "execution_count": null,
      "outputs": [
        {
          "output_type": "stream",
          "name": "stdout",
          "text": [
            "Mounted at /content/drive\n",
            "       type  fixed acidity  volatile acidity  citric acid  residual sugar  \\\n",
            "0     white            7.0             0.270         0.36            20.7   \n",
            "1     white            6.3             0.300         0.34             1.6   \n",
            "2     white            8.1             0.280         0.40             6.9   \n",
            "3     white            7.2             0.230         0.32             8.5   \n",
            "4     white            7.2             0.230         0.32             8.5   \n",
            "...     ...            ...               ...          ...             ...   \n",
            "6491    red            6.8             0.620         0.08             1.9   \n",
            "6492    red            6.2             0.600         0.08             2.0   \n",
            "6494    red            6.3             0.510         0.13             2.3   \n",
            "6495    red            5.9             0.645         0.12             2.0   \n",
            "6496    red            6.0             0.310         0.47             3.6   \n",
            "\n",
            "      chlorides  free sulfur dioxide  total sulfur dioxide  density    pH  \\\n",
            "0         0.045                 45.0                 170.0  1.00100  3.00   \n",
            "1         0.049                 14.0                 132.0  0.99400  3.30   \n",
            "2         0.050                 30.0                  97.0  0.99510  3.26   \n",
            "3         0.058                 47.0                 186.0  0.99560  3.19   \n",
            "4         0.058                 47.0                 186.0  0.99560  3.19   \n",
            "...         ...                  ...                   ...      ...   ...   \n",
            "6491      0.068                 28.0                  38.0  0.99651  3.42   \n",
            "6492      0.090                 32.0                  44.0  0.99490  3.45   \n",
            "6494      0.076                 29.0                  40.0  0.99574  3.42   \n",
            "6495      0.075                 32.0                  44.0  0.99547  3.57   \n",
            "6496      0.067                 18.0                  42.0  0.99549  3.39   \n",
            "\n",
            "      sulphates  alcohol  quality  \n",
            "0          0.45      8.8        6  \n",
            "1          0.49      9.5        6  \n",
            "2          0.44     10.1        6  \n",
            "3          0.40      9.9        6  \n",
            "4          0.40      9.9        6  \n",
            "...         ...      ...      ...  \n",
            "6491       0.82      9.5        6  \n",
            "6492       0.58     10.5        5  \n",
            "6494       0.75     11.0        6  \n",
            "6495       0.71     10.2        5  \n",
            "6496       0.66     11.0        6  \n",
            "\n",
            "[6463 rows x 13 columns]\n"
          ]
        }
      ]
    },
    {
      "cell_type": "code",
      "source": [
        "import matplotlib.pyplot as plt\n",
        "\n",
        "plt.hist(df.quality, bins = range(3, 10))\n",
        "\n",
        "plt.xlabel('Quality')\n",
        "plt.ylabel('Frequency')\n",
        "plt.title('Wine Quality Dataset Distribution')\n",
        "# plt.grid(True)\n",
        "output_path = '/content/drive/MyDrive/quality_distribution.png'\n",
        "plt.savefig(output_path)\n",
        "plt.show()"
      ],
      "metadata": {
        "colab": {
          "base_uri": "https://localhost:8080/",
          "height": 472
        },
        "id": "8G2xlwjwIzom",
        "outputId": "30960d92-88cf-45d1-d69c-760dcf68bd5a"
      },
      "execution_count": null,
      "outputs": [
        {
          "output_type": "display_data",
          "data": {
            "text/plain": [
              "<Figure size 640x480 with 1 Axes>"
            ],
            "image/png": "[encoded data removed]"
          },
          "metadata": {}
        }
      ]
    },
    {
      "cell_type": "code",
      "source": [
        "import numpy as np\n",
        "from sklearn.preprocessing import LabelEncoder, MinMaxScaler\n",
        "\n",
        "encoder = LabelEncoder()\n",
        "scaler = MinMaxScaler()\n",
        "df['type'] = encoder.fit_transform(df['type'])\n",
        "\n",
        "scaled_data = scaler.fit_transform(df[[\n",
        "    'type', 'fixed acidity', 'volatile acidity', 'citric acid', 'residual sugar', 'chlorides',\n",
        "    'free sulfur dioxide', 'total sulfur dioxide', 'density', 'pH', 'sulphates', 'alcohol'\n",
        "]])\n",
        "# scaled_data = scaler.fit_transform(df[[\n",
        "#     'type', 'fixed acidity', 'volatile acidity', 'residual sugar',\n",
        "#     'free sulfur dioxide', 'density', 'pH', 'sulphates', 'alcohol'\n",
        "# ]])\n",
        "\n",
        "# x = np.concatenate([scaled_data, df[['type']]], axis=1)\n",
        "x = scaled_data\n",
        "y = df.quality\n",
        "# x = df.drop('total sulfur dioxide', axis=1)\n",
        "# x = df[[\n",
        "#     'type', 'fixed acidity', 'volatile acidity', 'citric acid', 'residual sugar', 'chlorides',\n",
        "#     'free sulfur dioxide', 'total sulfur dioxide', 'density', 'pH', 'sulphates', 'alcohol'\n",
        "# ]]\n",
        "# y = df.quality"
      ],
      "metadata": {
        "id": "3OrcOz0pPsM_"
      },
      "execution_count": null,
      "outputs": []
    },
    {
      "cell_type": "code",
      "source": [
        "from sklearn.model_selection import train_test_split\n",
        "# x_train, x_test, y_train, y_test = train_test_split(x, y, test_size = 0.2, random_state = 42)\n",
        "x_train, x_temp, y_train, y_temp = train_test_split(x, y, test_size = 0.2, random_state = 42)\n",
        "x_val, x_test, y_val, y_test = train_test_split(x_temp, y_temp, test_size = 0.5, random_state = 42)"
      ],
      "metadata": {
        "id": "ZZqhgC2CPz2K"
      },
      "execution_count": null,
      "outputs": []
    },
    {
      "cell_type": "code",
      "execution_count": null,
      "metadata": {
        "colab": {
          "base_uri": "https://localhost:8080/"
        },
        "id": "NrbA2u2vGSee",
        "outputId": "7bc6af38-3bcc-4e0e-b2a5-481437d51d2d"
      },
      "outputs": [
        {
          "output_type": "stream",
          "name": "stdout",
          "text": [
            "Model Before SMOTE\n",
            "Mean Squared Error Validation: 0.44589728930146544\n",
            "Mean Squared Error: 0.402309875774571\n",
            "R-squared (R2) score: 0.4683708834841709\n",
            "Mean Absolute Percentage Error (MAPE): 0.08429219203252547\n",
            "Root Mean Squared Error (RMSE): 0.6342790204433464\n"
          ]
        }
      ],
      "source": [
        "# Normal Model\n",
        "# from sklearn.ensemble import GradientBoostingRegressor\n",
        "import xgboost as xgb\n",
        "from sklearn.metrics import mean_squared_error, r2_score, mean_absolute_percentage_error\n",
        "\n",
        "# # Create the Gradient Boosting Regressor model\n",
        "# gb = GradientBoostingRegressor(n_estimators=300, random_state=42)\n",
        "\n",
        "# # Train the model\n",
        "# gb.fit(x_train, y_train)\n",
        "\n",
        "# # Make predictions on the test set\n",
        "# y_pred = gb.predict(x_test)\n",
        "\n",
        "# Create the XGBoost regression model\n",
        "xgb_model = xgb.XGBRegressor()\n",
        "\n",
        "# Train the model\n",
        "xgb_model.fit(x_train, y_train)\n",
        "\n",
        "# Make predictions on the validation set\n",
        "y_pred_val = xgb_model.predict(x_val)\n",
        "\n",
        "print(\"Model Before SMOTE\")\n",
        "\n",
        "# Calculate the mean squared error\n",
        "mse = mean_squared_error(y_val, y_pred_val)\n",
        "print(\"Mean Squared Error Validation:\", mse)\n",
        "\n",
        "# Make predictions on the test set\n",
        "y_pred_test = xgb_model.predict(x_test)\n",
        "\n",
        "# Calculate the mean squared error\n",
        "mse = mean_squared_error(y_test, y_pred_test)\n",
        "print(\"Mean Squared Error:\", mse)\n",
        "\n",
        "# Calculate R-squared (R2) score\n",
        "r2 = r2_score(y_test, y_pred_test)\n",
        "print(\"R-squared (R2) score:\", r2)\n",
        "\n",
        "# Calculate Mean Absolute Percentage Error (MAPE)\n",
        "mape = mean_absolute_percentage_error(y_test, y_pred_test)\n",
        "print(\"Mean Absolute Percentage Error (MAPE):\", mape)\n",
        "\n",
        "# Calculate Root Mean Squared Error (RMSE)\n",
        "rmse = mean_squared_error(y_test, y_pred_test, squared = False)\n",
        "print(\"Root Mean Squared Error (RMSE):\", rmse)"
      ]
    },
    {
      "cell_type": "code",
      "source": [
        "from imblearn.over_sampling import SMOTE\n",
        "# smote = SMOTE(k_neighbors = 2)\n",
        "smote = SMOTE(k_neighbors = 4)\n",
        "\n",
        "# Apply SMOTE to generate synthetic samples\n",
        "x_smote, y_smote = smote.fit_resample(x, y)\n",
        "print(len(x_smote))"
      ],
      "metadata": {
        "id": "urRDyzGJPzcY",
        "colab": {
          "base_uri": "https://localhost:8080/"
        },
        "outputId": "fa121d85-bb16-4b6a-f5c6-8eea06c40a9e"
      },
      "execution_count": null,
      "outputs": [
        {
          "output_type": "stream",
          "name": "stdout",
          "text": [
            "19740\n"
          ]
        }
      ]
    },
    {
      "cell_type": "code",
      "source": [
        "from sklearn.model_selection import train_test_split\n",
        "# x_train_smote, x_test_smote, y_train_smote, y_test_smote = train_test_split(x_smote, y_smote, test_size = 0.2, random_state = 42)\n",
        "x_train_smote, x_temp_smote, y_train_smote, y_temp_smote = train_test_split(x_smote, y_smote, test_size = 0.2, random_state = 42)\n",
        "x_val_smote, x_test_smote, y_val_smote, y_test_smote = train_test_split(x_temp_smote, y_temp_smote, test_size = 0.5, random_state = 42)"
      ],
      "metadata": {
        "id": "93dpvPQKP9YN"
      },
      "execution_count": null,
      "outputs": []
    },
    {
      "cell_type": "code",
      "source": [
        "# Model with SMOTE\n",
        "# # Create the Gradient Boosting Regressor model\n",
        "# gb = GradientBoostingRegressor(n_estimators=300, random_state=42)\n",
        "\n",
        "# # Train the model\n",
        "# gb.fit(x_train, y_train)\n",
        "\n",
        "# # Make predictions on the test set\n",
        "# y_pred = gb.predict(x_test)\n",
        "\n",
        "# Create the XGBoost regression model\n",
        "xgb_model_smote = xgb.XGBRegressor()\n",
        "\n",
        "# Train the model\n",
        "xgb_model_smote.fit(x_train_smote, y_train_smote)\n",
        "\n",
        "# Make predictions on the validation set\n",
        "y_pred_val_smote = xgb_model_smote.predict(x_val_smote)\n",
        "\n",
        "print(\"Model After SMOTE\")\n",
        "\n",
        "# Calculate the mean squared error\n",
        "mse_val_smote = mean_squared_error(y_val_smote, y_pred_val_smote)\n",
        "print(\"Mean Squared Error:\", mse_val_smote)\n",
        "\n",
        "# Make predictions on the test set\n",
        "y_pred_smote = xgb_model_smote.predict(x_test_smote)\n",
        "\n",
        "# Calculate the mean squared error\n",
        "mse_smote = mean_squared_error(y_test_smote, y_pred_smote)\n",
        "print(\"Mean Squared Error:\", mse_smote)\n",
        "\n",
        "# Calculate R-squared (R2) score\n",
        "r2_smote = r2_score(y_test_smote, y_pred_smote)\n",
        "print(\"R-squared (R2) score:\", r2_smote)\n",
        "\n",
        "# Calculate Mean Absolute Percentage Error (MAPE)\n",
        "mape_smote = mean_absolute_percentage_error(y_test_smote, y_pred_smote)\n",
        "print(\"Mean Absolute Percentage Error (MAPE):\", mape_smote)\n",
        "\n",
        "# Calculate Root Mean Squared Error (RMSE)\n",
        "rmse_smote = mean_squared_error(y_test_smote, y_pred_smote, squared = False)\n",
        "print(\"Root Mean Squared Error (RMSE):\", rmse_smote)"
      ],
      "metadata": {
        "colab": {
          "base_uri": "https://localhost:8080/"
        },
        "id": "XSjxDFH1PMEu",
        "outputId": "917e25c9-6cb9-4e84-e1d2-73a45fd2512f"
      },
      "execution_count": null,
      "outputs": [
        {
          "output_type": "stream",
          "name": "stdout",
          "text": [
            "Model After SMOTE\n",
            "Mean Squared Error: 0.2751923883100338\n",
            "Mean Squared Error: 0.235547319798576\n",
            "R-squared (R2) score: 0.9422407802403188\n",
            "Mean Absolute Percentage Error (MAPE): 0.060640312925255985\n",
            "Root Mean Squared Error (RMSE): 0.4853321746995309\n"
          ]
        }
      ]
    }
  ]
}